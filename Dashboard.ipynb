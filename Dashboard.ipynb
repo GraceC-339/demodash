{
 "cells": [
  {
   "cell_type": "markdown",
   "metadata": {},
   "source": [
    "[DIY Covid-19 Dashboard Kit](https://github.com/fsmeraldi/diy-covid19dash) (C) Fabrizio Smeraldi, 2020 ([f.smeraldi@qmul.ac.uk](mailto:f.smeraldi@qmul.ac.uk) - [web](http://www.eecs.qmul.ac.uk/~fabri/)). This notebook is released under the [GNU GPLv3.0 or later](https://www.gnu.org/licenses/)."
   ]
  },
  {
   "cell_type": "markdown",
   "metadata": {},
   "source": [
    "# DIY Covid-19 Dashboard"
   ]
  },
  {
   "cell_type": "markdown",
   "metadata": {},
   "source": [
    "This is a dashboard displaying the data related to Covid-19 cases in England.\n",
    "All the data is from [Public Health England](https://www.gov.uk/government/organisations/public-health-england) (PHE) which is one of many Institutions worldwide running a Coronavirus [dashboard](https://coronavirus.data.gov.uk/), with current statistics on the pandemic. "
   ]
  },
  {
   "cell_type": "code",
   "execution_count": 1,
   "metadata": {},
   "outputs": [],
   "source": [
    "from IPython.display import clear_output\n",
    "import ipywidgets as wdg\n",
    "import pandas as pd\n",
    "import numpy as np\n",
    "import matplotlib.pyplot as plt\n",
    "import json\n",
    "from uk_covid19 import Cov19API"
   ]
  },
  {
   "cell_type": "code",
   "execution_count": 2,
   "metadata": {},
   "outputs": [],
   "source": [
    "%matplotlib inline\n",
    "# make figures larger\n",
    "plt.rcParams['figure.dpi'] = 100"
   ]
  },
  {
   "cell_type": "code",
   "execution_count": 3,
   "metadata": {},
   "outputs": [],
   "source": [
    "# Load JSON files and store the raw data in some variable. \n",
    "with open(\"sexDeathDistribution.json\",\"rt\") as file:\n",
    "    data=json.load(file)\n",
    "datadic= data['data'][0]\n",
    "jsondata=datadic"
   ]
  },
  {
   "cell_type": "code",
   "execution_count": 10,
   "metadata": {},
   "outputs": [],
   "source": [
    "# Wrangle the data into a DataFrame, put it as a function.\n",
    "def wrangle_data(rawdata):\n",
    "    \"\"\" Parameters: rawdata - data from json file or API call. Returns a dataframe.\n",
    "    Wrangle the data, create a dataframe\"\"\"\n",
    "   \n",
    "    females = jsondata['females']\n",
    "    males = jsondata['males']\n",
    "    \n",
    "    ageranges = [c['age'] for c in females]\n",
    "    \n",
    "    def min_age(agerange):\n",
    "        agerange=agerange.replace('+','')\n",
    "        start=agerange.split('_')[0]\n",
    "        return int(start)\n",
    "    ageranges.sort(key=min_age)\n",
    "\n",
    "    age_df=pd.DataFrame(index=ageranges,columns=['females','males','total'])\n",
    "\n",
    "    for entry in females:\n",
    "        ageband=entry['age']\n",
    "        age_df.loc[ageband,'females']=entry['value']\n",
    "\n",
    "    for entry in males:\n",
    "        ageband=entry['age']\n",
    "        age_df.loc[ageband,'males']=entry['value']\n",
    "\n",
    "    age_df['total']=age_df['females']+age_df['males']\n",
    "    return age_df\n",
    "\n",
    "df=wrangle_data(jsondata) # df is the dataframe for plotting"
   ]
  },
  {
   "cell_type": "code",
   "execution_count": 11,
   "metadata": {},
   "outputs": [],
   "source": [
    "# Access the API which will be called by the button callback.\n",
    "def access_api():\n",
    "    \"\"\" Accesses the PHE API. Return data as a like-for-like replacement for the \"canned\" data loaded from the JSON file. \"\"\"\n",
    "    #Retrieve the data of death within 28 days for female and male\n",
    "    filters = [\n",
    "        'areaType=nation',\n",
    "        'areaName=England'\n",
    "    ]\n",
    "    structure={\n",
    "        \"females\": \"femaleDeaths28Days\",\n",
    "        \"males\" : \"maleDeaths28Days\"\n",
    "    }\n",
    "    api = Cov19API(filters=filters, structure=structure)\n",
    "    sexDeathDistribution=api.get_json()\n",
    "    return sexDeathDistribution # return data read from the API"
   ]
  },
  {
   "cell_type": "markdown",
   "metadata": {},
   "source": [
    "## Refresh Button\n",
    "Click the button below to refresh the data.\n"
   ]
  },
  {
   "cell_type": "code",
   "execution_count": 19,
   "metadata": {},
   "outputs": [
    {
     "data": {
      "application/vnd.jupyter.widget-view+json": {
       "model_id": "3bae6fe5251c438eb6e72ba9b986ed3f",
       "version_major": 2,
       "version_minor": 0
      },
      "text/plain": [
       "Button(button_style='info', description='Refresh', icon='download', style=ButtonStyle(button_color='green', fo…"
      ]
     },
     "metadata": {},
     "output_type": "display_data"
    }
   ],
   "source": [
    "def api_button_callback(button):\n",
    "    \"\"\" Accesses API, wrangles data, updates global variable df used for plotting. \"\"\"\n",
    "    # Get fresh data from the API.\n",
    "    apidata=access_api()\n",
    "    # wrangle the data and overwrite the dataframe for plotting\n",
    "    global df\n",
    "    df=wrangle_data(apidata)\n",
    "    refresh_graph()\n",
    "    apibutton.icon=\"check\"\n",
    "    apibutton.disabled=True\n",
    "    \n",
    "apibutton=wdg.Button(\n",
    "    description='Refresh', \n",
    "    disabled=False,\n",
    "    button_style='info',\n",
    "    tooltip=\"Refresh the data\",\n",
    "    icon='download'\n",
    ")\n",
    "\n",
    "#Change the style of the button\n",
    "apibutton.style.button_color = 'green'  # Change button color\n",
    "apibutton.style.font_weight = 'bold'  # Make the font bold\n",
    "\n",
    "#Register button callback function with the button\n",
    "apibutton.on_click(api_button_callback)\n",
    "\n",
    "#Display the button\n",
    "display(apibutton)"
   ]
  },
  {
   "cell_type": "markdown",
   "metadata": {},
   "source": [
    "## Graphs and Analysis"
   ]
  },
  {
   "cell_type": "markdown",
   "metadata": {},
   "source": [
    "Below is the graph showing the **number of death within 28 days of a positive test for females and males from different ages in England**.\n",
    "You can choose from the selection of sex to see the graph of females and males and total numbers."
   ]
  },
  {
   "cell_type": "code",
   "execution_count": 13,
   "metadata": {},
   "outputs": [
    {
     "data": {
      "application/vnd.jupyter.widget-view+json": {
       "model_id": "f89838ef447a4df28d51b0cef37231ce",
       "version_major": 2,
       "version_minor": 0
      },
      "text/plain": [
       "SelectMultiple(description='Sex', index=(0, 1), options=('females', 'males', 'total'), rows=3, value=('females…"
      ]
     },
     "metadata": {},
     "output_type": "display_data"
    },
    {
     "data": {
      "application/vnd.jupyter.widget-view+json": {
       "model_id": "9507bf2e48464ca6a2fd411e6b9caffa",
       "version_major": 2,
       "version_minor": 0
      },
      "text/plain": [
       "Output()"
      ]
     },
     "metadata": {},
     "output_type": "display_data"
    }
   ],
   "source": [
    "def age_graph(graphcolumns):\n",
    "    ncols=len(graphcolumns)\n",
    "    if ncols>0:\n",
    "        df.plot(kind='bar', y=list(graphcolumns))\n",
    "        plt.show()\n",
    "    else:\n",
    "        print(\"Click to select data for graph\")\n",
    "        print(\"(CTRL-Click to select more than one category)\")\n",
    "\n",
    "agecols=wdg.SelectMultiple(\n",
    "    options=('females','males','total'),\n",
    "    value=('females','males'),\n",
    "    rows=3,\n",
    "    description='Sex',\n",
    "    disabled=False\n",
    ")\n",
    "\n",
    "def refresh_graph():\n",
    "    \"\"\" Change the value of the widget in order to force a redraw of the graph\"\"\"\n",
    "    current=agecols.value\n",
    "    agecols.value=[]\n",
    "    agecols.value=current\n",
    "    output=wdg.interactive_output(age_graph,{'graphcolumns':agecols})\n",
    "    \n",
    "# connect the plotting function and the widget\n",
    "output=wdg.interactive_output(age_graph,{'graphcolumns':agecols})\n",
    "\n",
    "# actually displays the graph\n",
    "display(agecols,output)"
   ]
  },
  {
   "cell_type": "markdown",
   "metadata": {},
   "source": [
    "**Author and Copyright Notice** Remember that if you deploy this dashboard as a Binder it will be publicly accessible. Take credit for your work! Also acknowledge your sources: Based on UK Government [data](https://coronavirus.data.gov.uk/) published by [Public Health England](https://www.gov.uk/government/organisations/public-health-england) and on the [DIY Covid Dashboard Kit](https://github.com/fsmeraldi/diy-covid19dash), Copyright (C) Fabrizio Smeraldi 2020,2023. Released under the [GNU GPLv3.0 or later](https://www.gnu.org/licenses/)."
   ]
  }
 ],
 "metadata": {
  "kernelspec": {
   "display_name": "Python 3 (ipykernel)",
   "language": "python",
   "name": "python3"
  },
  "language_info": {
   "codemirror_mode": {
    "name": "ipython",
    "version": 3
   },
   "file_extension": ".py",
   "mimetype": "text/x-python",
   "name": "python",
   "nbconvert_exporter": "python",
   "pygments_lexer": "ipython3",
   "version": "3.10.13"
  }
 },
 "nbformat": 4,
 "nbformat_minor": 4
}
